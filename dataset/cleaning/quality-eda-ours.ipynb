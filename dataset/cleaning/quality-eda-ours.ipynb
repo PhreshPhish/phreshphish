{
 "cells": [
  {
   "cell_type": "code",
   "execution_count": 1,
   "id": "7f8a99b6-ced1-428a-8916-87caf18d628a",
   "metadata": {},
   "outputs": [],
   "source": [
    "%load_ext autoreload\n",
    "%autoreload 2\n",
    "\n",
    "import polars as pl\n",
    "from collections import Counter\n",
    "\n",
    "import util"
   ]
  },
  {
   "cell_type": "code",
   "execution_count": 2,
   "id": "b529c0c0-d601-401f-b58d-143996453727",
   "metadata": {},
   "outputs": [],
   "source": [
    "import json\n",
    "import re\n",
    "from pathlib import Path\n",
    "from concurrent.futures import ProcessPoolExecutor\n",
    "from bs4 import BeautifulSoup\n",
    "import polars as pl\n",
    "from tqdm import tqdm\n",
    "\n",
    "def _load_file(filepath: Path) -> dict:\n",
    "    label = 1 if \"phishes\" in filepath.parts else -1\n",
    "\n",
    "    try:\n",
    "        data = json.loads(filepath.read_text(encoding=\"utf-8\"))\n",
    "        url = data.get(\"url\")\n",
    "        raw_html = data.get(\"html\", \"\")\n",
    "    except Exception:\n",
    "        return {\"url\": None, \"html\": None, \"text\": None, \"title\": None, \"label\": label}\n",
    "\n",
    "    # skip non-HTML\n",
    "    if not re.search(r\"<\\s*\\w+[^>]*>\", raw_html):\n",
    "        return {\"url\": url, \"html\": None, \"text\": None, \"title\": None, \"label\": label}\n",
    "\n",
    "    soup = BeautifulSoup(raw_html, \"lxml\")\n",
    "    pretty = soup.prettify()\n",
    "    title = soup.title.string.strip().lower() if soup.title and soup.title.string else None\n",
    "    text = soup.get_text(separator=\" \", strip=True)\n",
    "\n",
    "    return {\"url\": url, \"html\": pretty, \"text\": text, \"title\": title, \"label\": label}\n",
    "\n",
    "def load_dataset(phish_dir: str,\n",
    "                 benign_dir: str,\n",
    "                 max_workers: int = None) -> pl.DataFrame:\n",
    "    phish_paths  = list(Path(phish_dir).glob(\"*.json\"))\n",
    "    benign_paths = list(Path(benign_dir).glob(\"*.json\"))\n",
    "    all_paths    = phish_paths + benign_paths\n",
    "\n",
    "    with ProcessPoolExecutor(max_workers=max_workers) as pool:\n",
    "        records = list(tqdm(\n",
    "            pool.map(_load_file, all_paths),\n",
    "            total=len(all_paths),\n",
    "            desc=\"Loading samples\",\n",
    "            unit=\"file\",\n",
    "        ))\n",
    "\n",
    "    return pl.DataFrame(records)"
   ]
  },
  {
   "cell_type": "code",
   "execution_count": null,
   "id": "bcf69e6c-5dbe-4640-a4d5-b2d4d80888a4",
   "metadata": {},
   "outputs": [],
   "source": [
    "df = load_dataset('<path/to>/phishes',\n",
    "                  '<path/to>/benigns')"
   ]
  },
  {
   "cell_type": "code",
   "execution_count": null,
   "id": "8b66d25a-958c-491f-8fc6-04b1db5aa7a2",
   "metadata": {},
   "outputs": [],
   "source": [
    "df = util.find_duplicate_urls(df)\n",
    "df = util.find_empty_html(df)\n",
    "df = util.find_bad_titles(df)"
   ]
  },
  {
   "cell_type": "code",
   "execution_count": 28,
   "id": "a361bf10-7538-4cc2-b329-a7a8c91ff463",
   "metadata": {},
   "outputs": [
    {
     "name": "stderr",
     "output_type": "stream",
     "text": [
      "/tmp/ipykernel_3103137/2477311198.py:9: DeprecationWarning: `pl.count()` is deprecated. Please use `pl.len()` instead.\n",
      "  pl.count().alias(\"total\"),\n"
     ]
    },
    {
     "data": {
      "text/html": [
       "<div><style>\n",
       ".dataframe > thead > tr,\n",
       ".dataframe > tbody > tr {\n",
       "  text-align: right;\n",
       "  white-space: pre-wrap;\n",
       "}\n",
       "</style>\n",
       "<small>shape: (2, 8)</small><table border=\"1\" class=\"dataframe\"><thead><tr><th>label</th><th>num_empty_html</th><th>num_bad_title</th><th>num_dupes</th><th>total</th><th>empty_html_rate</th><th>bad_title_rate</th><th>dupe_url_rate</th></tr><tr><td>i64</td><td>u32</td><td>u32</td><td>u32</td><td>u32</td><td>f64</td><td>f64</td><td>f64</td></tr></thead><tbody><tr><td>-1</td><td>0</td><td>231</td><td>0</td><td>253936</td><td>0.0</td><td>0.00091</td><td>0.0</td></tr><tr><td>1</td><td>0</td><td>10</td><td>0</td><td>119858</td><td>0.0</td><td>0.000083</td><td>0.0</td></tr></tbody></table></div>"
      ],
      "text/plain": [
       "shape: (2, 8)\n",
       "┌───────┬─────────────┬─────────────┬───────────┬────────┬─────────────┬─────────────┬─────────────┐\n",
       "│ label ┆ num_empty_h ┆ num_bad_tit ┆ num_dupes ┆ total  ┆ empty_html_ ┆ bad_title_r ┆ dupe_url_ra │\n",
       "│ ---   ┆ tml         ┆ le          ┆ ---       ┆ ---    ┆ rate        ┆ ate         ┆ te          │\n",
       "│ i64   ┆ ---         ┆ ---         ┆ u32       ┆ u32    ┆ ---         ┆ ---         ┆ ---         │\n",
       "│       ┆ u32         ┆ u32         ┆           ┆        ┆ f64         ┆ f64         ┆ f64         │\n",
       "╞═══════╪═════════════╪═════════════╪═══════════╪════════╪═════════════╪═════════════╪═════════════╡\n",
       "│ -1    ┆ 0           ┆ 231         ┆ 0         ┆ 253936 ┆ 0.0         ┆ 0.00091     ┆ 0.0         │\n",
       "│ 1     ┆ 0           ┆ 10          ┆ 0         ┆ 119858 ┆ 0.0         ┆ 0.000083    ┆ 0.0         │\n",
       "└───────┴─────────────┴─────────────┴───────────┴────────┴─────────────┴─────────────┴─────────────┘"
      ]
     },
     "execution_count": 28,
     "metadata": {},
     "output_type": "execute_result"
    }
   ],
   "source": [
    "stats = (\n",
    "    df\n",
    "    .group_by(\"label\")\n",
    "    .agg([\n",
    "        # raw counts\n",
    "        pl.col(\"empty_html\"     ).sum().alias(\"num_empty_html\"),\n",
    "        pl.col(\"bad_title\"      ).sum().alias(\"num_bad_title\"),\n",
    "        pl.col(\"duplicate_url\"  ).sum().alias(\"num_dupes\"),\n",
    "        pl.count().alias(\"total\"),\n",
    "    ])\n",
    "    .with_columns([\n",
    "        # convert to rates if you like\n",
    "        (pl.col(\"num_empty_html\") / pl.col(\"total\"))\n",
    "           .alias(\"empty_html_rate\"),\n",
    "        (pl.col(\"num_bad_title\")  / pl.col(\"total\"))\n",
    "           .alias(\"bad_title_rate\"),\n",
    "        (pl.col(\"num_dupes\")  / pl.col(\"total\"))\n",
    "           .alias(\"dupe_url_rate\"),\n",
    "    ])\n",
    ")\n",
    "stats"
   ]
  },
  {
   "cell_type": "code",
   "execution_count": 18,
   "id": "9ec3f841-0f65-4446-bd5f-9607a47e0fab",
   "metadata": {},
   "outputs": [
    {
     "data": {
      "text/html": [
       "<div><style>\n",
       ".dataframe > thead > tr,\n",
       ".dataframe > tbody > tr {\n",
       "  text-align: right;\n",
       "  white-space: pre-wrap;\n",
       "}\n",
       "</style>\n",
       "<small>shape: (1, 2)</small><table border=\"1\" class=\"dataframe\"><thead><tr><th>label</th><th>n</th></tr><tr><td>i64</td><td>u32</td></tr></thead><tbody><tr><td>-1</td><td>373553</td></tr></tbody></table></div>"
      ],
      "text/plain": [
       "shape: (1, 2)\n",
       "┌───────┬────────┐\n",
       "│ label ┆ n      │\n",
       "│ ---   ┆ ---    │\n",
       "│ i64   ┆ u32    │\n",
       "╞═══════╪════════╡\n",
       "│ -1    ┆ 373553 │\n",
       "└───────┴────────┘"
      ]
     },
     "execution_count": 18,
     "metadata": {},
     "output_type": "execute_result"
    }
   ],
   "source": [
    "df = df.filter(~(pl.col('bad_title')) & (~pl.col('empty_html'))).drop(['empty_html', 'bad_title'])\n",
    "df = df.with_row_index()\n",
    "df.group_by('label').agg(pl.col('label').count().alias('n'))"
   ]
  },
  {
   "cell_type": "code",
   "execution_count": 30,
   "id": "bf2d6e0c-a052-4bca-9e2f-bf4413c572c3",
   "metadata": {},
   "outputs": [
    {
     "name": "stdout",
     "output_type": "stream",
     "text": [
      "Fitting TF-IDF on 11561 / 38537 docs...\n",
      "Transforming all 38537 documents in 3854 chunks on 80 processes...\n"
     ]
    },
    {
     "name": "stderr",
     "output_type": "stream",
     "text": [
      "Transform: 100%|████████████████████████████████████████████████| 3854/3854 [00:38<00:00, 99.98it/s]\n"
     ]
    }
   ],
   "source": [
    "X_tfidf = util.build_tfidf(df, max_features=None, sample_frac=0.3)"
   ]
  },
  {
   "cell_type": "code",
   "execution_count": 31,
   "id": "1601ce24-b244-4d5d-9253-60ca191e6ad3",
   "metadata": {},
   "outputs": [],
   "source": [
    "lsh_model = util.train_lsh(X_tfidf, n_vectors=16, seed=143)\n",
    "\n",
    "# add the bin_id to dataframe\n",
    "mapping = pl.DataFrame(\n",
    "    [\n",
    "        {\"index\": idx, \"bin\": bin_id}\n",
    "        for bin_id, indices in lsh_model[\"table\"].items()\n",
    "        for idx in indices\n",
    "    ]\n",
    ")\n",
    "\n",
    "df = df.join(mapping, on=\"index\", how=\"left\")"
   ]
  },
  {
   "cell_type": "code",
   "execution_count": 32,
   "id": "98b65382-6074-4b4c-b45d-713940a8d2f8",
   "metadata": {},
   "outputs": [
    {
     "name": "stdout",
     "output_type": "stream",
     "text": [
      "Budget exhausted. Finalizing...\n",
      "Processed: 11014 / 38537 (28.58%)\n",
      "  Keep:   3412 / 11014 (30.98%)\n",
      "  Reject: 7602 / 11014 (69.02%)\n",
      "----------------------------------------\n"
     ]
    }
   ],
   "source": [
    "cleaned_1 = util.run_cleaning(X_tfidf, df, lsh_model, 30, group_col='bin')\n",
    "cleaned_2 = util.run_cleaning(X_tfidf, cleaned_1, lsh_model, 30, group_col='bin')  # run a second time to go back to largest bins "
   ]
  },
  {
   "cell_type": "code",
   "execution_count": 30,
   "id": "a6d71f3d-1e3b-432d-b85d-9e643ea44c0b",
   "metadata": {},
   "outputs": [
    {
     "ename": "NameError",
     "evalue": "name 'cleaned_2' is not defined",
     "output_type": "error",
     "traceback": [
      "\u001b[0;31m---------------------------------------------------------------------------\u001b[0m",
      "\u001b[0;31mNameError\u001b[0m                                 Traceback (most recent call last)",
      "Cell \u001b[0;32mIn[30], line 1\u001b[0m\n\u001b[0;32m----> 1\u001b[0m \u001b[43mcleaned_2\u001b[49m\u001b[38;5;241m.\u001b[39mgroup_by(\u001b[38;5;124m'\u001b[39m\u001b[38;5;124mlabel\u001b[39m\u001b[38;5;124m'\u001b[39m)\u001b[38;5;241m.\u001b[39magg(pl\u001b[38;5;241m.\u001b[39mcol(\u001b[38;5;124m'\u001b[39m\u001b[38;5;124mkeep\u001b[39m\u001b[38;5;124m'\u001b[39m) \u001b[38;5;241m==\u001b[39m \u001b[38;5;28;01mFalse\u001b[39;00m)\n",
      "\u001b[0;31mNameError\u001b[0m: name 'cleaned_2' is not defined"
     ]
    }
   ],
   "source": [
    "cleaned_2.group_by('label').agg(pl.col('keep') == False)"
   ]
  },
  {
   "cell_type": "code",
   "execution_count": 33,
   "id": "8ffde315-bdde-4325-8ab0-643ce86db23f",
   "metadata": {},
   "outputs": [
    {
     "name": "stdout",
     "output_type": "stream",
     "text": [
      "Budget exhausted. Finalizing...\n",
      "Processed: 12188 / 38537 (31.63%)\n",
      "  Keep:   3748 / 12188 (30.75%)\n",
      "  Reject: 8440 / 12188 (69.25%)\n",
      "----------------------------------------\n"
     ]
    }
   ],
   "source": [
    "cleaned_3 = util.run_cleaning(X_tfidf, cleaned_2, lsh_model, budget=50, group_col='title')\n",
    "cleaned_4 = util.run_cleaning(X_tfidf, cleaned_3, lsh_model, budget=50, group_col='title')"
   ]
  },
  {
   "cell_type": "code",
   "execution_count": 34,
   "id": "d821e027-04dd-4195-92d2-bb49d59f9888",
   "metadata": {},
   "outputs": [
    {
     "data": {
      "text/html": [
       "<div><style>\n",
       ".dataframe > thead > tr,\n",
       ".dataframe > tbody > tr {\n",
       "  text-align: right;\n",
       "  white-space: pre-wrap;\n",
       "}\n",
       "</style>\n",
       "<small>shape: (30_097, 8)</small><table border=\"1\" class=\"dataframe\"><thead><tr><th>index</th><th>url</th><th>html</th><th>text</th><th>title</th><th>label</th><th>bin</th><th>keep</th></tr><tr><td>u32</td><td>str</td><td>str</td><td>str</td><td>str</td><td>i64</td><td>i64</td><td>bool</td></tr></thead><tbody><tr><td>0</td><td>&quot;10bestbingorooms.com&quot;</td><td>&quot;&lt;!DOCTYPE HTML&gt;\n",
       "&lt;html&gt;\n",
       " &lt;head&gt;…</td><td>&quot;10 Best Bingo Rooms :: Only th…</td><td>&quot;10 best bingo rooms :: only th…</td><td>1</td><td>61597</td><td>null</td></tr><tr><td>1</td><td>&quot;10stepstostartingyouronlinebus…</td><td>&quot;&lt;html&gt;\n",
       " &lt;head&gt;\n",
       "&nbsp;&nbsp;&lt;meta content…</td><td>&quot;Connie Ragen Green | Starting …</td><td>&quot;connie ragen green | starting …</td><td>1</td><td>62394</td><td>null</td></tr><tr><td>2</td><td>&quot;10surdix.com&quot;</td><td>&quot;&lt;!DOCTYPE html&gt;\n",
       "&lt;html lang=&quot;fr…</td><td>&quot;[10surdix] Architecte d’intéri…</td><td>&quot;[10surdix] architecte d’intéri…</td><td>1</td><td>43022</td><td>null</td></tr><tr><td>3</td><td>&quot;118usa.com&quot;</td><td>&quot;&lt;!DOCTYPE html&gt;\n",
       "&lt;html&gt;\n",
       " &lt;head&gt;…</td><td>&quot;Index of / Index of / Name Las…</td><td>&quot;index of /&quot;</td><td>1</td><td>17790</td><td>null</td></tr><tr><td>4</td><td>&quot;123contactform.com/form-241310…</td><td>&quot;&lt;!DOCTYPE html PUBLIC &quot;-//W3C/…</td><td>&quot;Surpreenda_MasterCard2017 Desc…</td><td>&quot;surpreenda_mastercard2017&quot;</td><td>1</td><td>7612</td><td>null</td></tr><tr><td>&hellip;</td><td>&hellip;</td><td>&hellip;</td><td>&hellip;</td><td>&hellip;</td><td>&hellip;</td><td>&hellip;</td><td>&hellip;</td></tr><tr><td>38518</td><td>&quot;dreamshockdesign.com&quot;</td><td>&quot;&lt;!DOCTYPE html&gt;\n",
       "&lt;html xmlns=&quot;h…</td><td>&quot;Creative Video Production for …</td><td>&quot;creative video production for …</td><td>1</td><td>37270</td><td>null</td></tr><tr><td>38519</td><td>&quot;dremsm.gob.pe&quot;</td><td>&quot;&lt;!DOCTYPE html&gt;\n",
       "&lt;html lang=&quot;en…</td><td>&quot;DIRECCION REGIONAL DE ENERGIA …</td><td>&quot;direccion regional de energia …</td><td>1</td><td>56189</td><td>null</td></tr><tr><td>38533</td><td>&quot;dresslikea.com&quot;</td><td>&quot;&lt;!DOCTYPE html&gt;\n",
       "&lt;html class=&quot;n…</td><td>&quot;Dress Like A Shop Journal Our …</td><td>&quot;dress like a&quot;</td><td>1</td><td>27665</td><td>null</td></tr><tr><td>38534</td><td>&quot;dressymodafeminina.com.br&quot;</td><td>&quot;&lt;!DOCTYPE html&gt;\n",
       "&lt;html dir=&quot;ltr…</td><td>&quot;Dressy Moda Feminina Plus Size…</td><td>&quot;dressy moda feminina plus size…</td><td>1</td><td>7227</td><td>null</td></tr><tr><td>38536</td><td>&quot;drgangubaihangalgurukul.com&quot;</td><td>&quot;&lt;!DOCTYPE html PUBLIC &quot;-//W3C/…</td><td>&quot;Gangubai-intro page Enter the …</td><td>&quot;gangubai-intro page&quot;</td><td>1</td><td>51408</td><td>null</td></tr></tbody></table></div>"
      ],
      "text/plain": [
       "shape: (30_097, 8)\n",
       "┌───────┬────────────────┬────────────────┬────────────────┬────────────────┬───────┬───────┬──────┐\n",
       "│ index ┆ url            ┆ html           ┆ text           ┆ title          ┆ label ┆ bin   ┆ keep │\n",
       "│ ---   ┆ ---            ┆ ---            ┆ ---            ┆ ---            ┆ ---   ┆ ---   ┆ ---  │\n",
       "│ u32   ┆ str            ┆ str            ┆ str            ┆ str            ┆ i64   ┆ i64   ┆ bool │\n",
       "╞═══════╪════════════════╪════════════════╪════════════════╪════════════════╪═══════╪═══════╪══════╡\n",
       "│ 0     ┆ 10bestbingoroo ┆ <!DOCTYPE      ┆ 10 Best Bingo  ┆ 10 best bingo  ┆ 1     ┆ 61597 ┆ null │\n",
       "│       ┆ ms.com         ┆ HTML>          ┆ Rooms :: Only  ┆ rooms :: only  ┆       ┆       ┆      │\n",
       "│       ┆                ┆ <html>         ┆ th…            ┆ th…            ┆       ┆       ┆      │\n",
       "│       ┆                ┆  <head>…       ┆                ┆                ┆       ┆       ┆      │\n",
       "│ 1     ┆ 10stepstostart ┆ <html>         ┆ Connie Ragen   ┆ connie ragen   ┆ 1     ┆ 62394 ┆ null │\n",
       "│       ┆ ingyouronlineb ┆  <head>        ┆ Green |        ┆ green |        ┆       ┆       ┆      │\n",
       "│       ┆ us…            ┆ <meta content… ┆ Starting …     ┆ starting …     ┆       ┆       ┆      │\n",
       "│ 2     ┆ 10surdix.com   ┆ <!DOCTYPE      ┆ [10surdix]     ┆ [10surdix]     ┆ 1     ┆ 43022 ┆ null │\n",
       "│       ┆                ┆ html>          ┆ Architecte     ┆ architecte     ┆       ┆       ┆      │\n",
       "│       ┆                ┆ <html          ┆ d’intéri…      ┆ d’intéri…      ┆       ┆       ┆      │\n",
       "│       ┆                ┆ lang=\"fr…      ┆                ┆                ┆       ┆       ┆      │\n",
       "│ 3     ┆ 118usa.com     ┆ <!DOCTYPE      ┆ Index of /     ┆ index of /     ┆ 1     ┆ 17790 ┆ null │\n",
       "│       ┆                ┆ html>          ┆ Index of /     ┆                ┆       ┆       ┆      │\n",
       "│       ┆                ┆ <html>         ┆ Name Las…      ┆                ┆       ┆       ┆      │\n",
       "│       ┆                ┆  <head>…       ┆                ┆                ┆       ┆       ┆      │\n",
       "│ 4     ┆ 123contactform ┆ <!DOCTYPE html ┆ Surpreenda_Mas ┆ surpreenda_mas ┆ 1     ┆ 7612  ┆ null │\n",
       "│       ┆ .com/form-2413 ┆ PUBLIC         ┆ terCard2017    ┆ tercard2017    ┆       ┆       ┆      │\n",
       "│       ┆ 10…            ┆ \"-//W3C/…      ┆ Desc…          ┆                ┆       ┆       ┆      │\n",
       "│ …     ┆ …              ┆ …              ┆ …              ┆ …              ┆ …     ┆ …     ┆ …    │\n",
       "│ 38518 ┆ dreamshockdesi ┆ <!DOCTYPE      ┆ Creative Video ┆ creative video ┆ 1     ┆ 37270 ┆ null │\n",
       "│       ┆ gn.com         ┆ html>          ┆ Production for ┆ production for ┆       ┆       ┆      │\n",
       "│       ┆                ┆ <html          ┆ …              ┆ …              ┆       ┆       ┆      │\n",
       "│       ┆                ┆ xmlns=\"h…      ┆                ┆                ┆       ┆       ┆      │\n",
       "│ 38519 ┆ dremsm.gob.pe  ┆ <!DOCTYPE      ┆ DIRECCION      ┆ direccion      ┆ 1     ┆ 56189 ┆ null │\n",
       "│       ┆                ┆ html>          ┆ REGIONAL DE    ┆ regional de    ┆       ┆       ┆      │\n",
       "│       ┆                ┆ <html          ┆ ENERGIA …      ┆ energia …      ┆       ┆       ┆      │\n",
       "│       ┆                ┆ lang=\"en…      ┆                ┆                ┆       ┆       ┆      │\n",
       "│ 38533 ┆ dresslikea.com ┆ <!DOCTYPE      ┆ Dress Like A   ┆ dress like a   ┆ 1     ┆ 27665 ┆ null │\n",
       "│       ┆                ┆ html>          ┆ Shop Journal   ┆                ┆       ┆       ┆      │\n",
       "│       ┆                ┆ <html          ┆ Our …          ┆                ┆       ┆       ┆      │\n",
       "│       ┆                ┆ class=\"n…      ┆                ┆                ┆       ┆       ┆      │\n",
       "│ 38534 ┆ dressymodafemi ┆ <!DOCTYPE      ┆ Dressy Moda    ┆ dressy moda    ┆ 1     ┆ 7227  ┆ null │\n",
       "│       ┆ nina.com.br    ┆ html>          ┆ Feminina Plus  ┆ feminina plus  ┆       ┆       ┆      │\n",
       "│       ┆                ┆ <html          ┆ Size…          ┆ size…          ┆       ┆       ┆      │\n",
       "│       ┆                ┆ dir=\"ltr…      ┆                ┆                ┆       ┆       ┆      │\n",
       "│ 38536 ┆ drgangubaihang ┆ <!DOCTYPE html ┆ Gangubai-intro ┆ gangubai-intro ┆ 1     ┆ 51408 ┆ null │\n",
       "│       ┆ algurukul.com  ┆ PUBLIC         ┆ page Enter the ┆ page           ┆       ┆       ┆      │\n",
       "│       ┆                ┆ \"-//W3C/…      ┆ …              ┆                ┆       ┆       ┆      │\n",
       "└───────┴────────────────┴────────────────┴────────────────┴────────────────┴───────┴───────┴──────┘"
      ]
     },
     "execution_count": 34,
     "metadata": {},
     "output_type": "execute_result"
    }
   ],
   "source": [
    "final = cleaned_4.filter((pl.col('keep').is_null()) | (pl.col('keep') == True))\n",
    "final.group_by('label').agg(pl.col('label').count().alias('n'))\n",
    "final"
   ]
  },
  {
   "cell_type": "code",
   "execution_count": 35,
   "id": "23b7e953-7a10-4d08-aa99-3bd85624b39d",
   "metadata": {},
   "outputs": [
    {
     "data": {
      "text/html": [
       "<div><style>\n",
       ".dataframe > thead > tr,\n",
       ".dataframe > tbody > tr {\n",
       "  text-align: right;\n",
       "  white-space: pre-wrap;\n",
       "}\n",
       "</style>\n",
       "<small>shape: (2, 4)</small><table border=\"1\" class=\"dataframe\"><thead><tr><th>label</th><th>num_rejected</th><th>reject_rate</th><th>n_decided</th></tr><tr><td>i64</td><td>u32</td><td>f64</td><td>u32</td></tr></thead><tbody><tr><td>-1</td><td>5637</td><td>0.653414</td><td>8627</td></tr><tr><td>1</td><td>2803</td><td>0.787138</td><td>3561</td></tr></tbody></table></div>"
      ],
      "text/plain": [
       "shape: (2, 4)\n",
       "┌───────┬──────────────┬─────────────┬───────────┐\n",
       "│ label ┆ num_rejected ┆ reject_rate ┆ n_decided │\n",
       "│ ---   ┆ ---          ┆ ---         ┆ ---       │\n",
       "│ i64   ┆ u32          ┆ f64         ┆ u32       │\n",
       "╞═══════╪══════════════╪═════════════╪═══════════╡\n",
       "│ -1    ┆ 5637         ┆ 0.653414    ┆ 8627      │\n",
       "│ 1     ┆ 2803         ┆ 0.787138    ┆ 3561      │\n",
       "└───────┴──────────────┴─────────────┴───────────┘"
      ]
     },
     "execution_count": 35,
     "metadata": {},
     "output_type": "execute_result"
    }
   ],
   "source": [
    "reject_stats = (\n",
    "    cleaned_4\n",
    "    # only consider rows where a decision was made\n",
    "    .filter(pl.col(\"keep\").is_not_null())\n",
    "    # group by the class label\n",
    "    .group_by(\"label\")\n",
    "    .agg([\n",
    "        # how many were rejected?\n",
    "        pl.col(\"keep\").eq(False).sum().alias(\"num_rejected\"),\n",
    "        # what fraction of this class’s decisions were rejects?\n",
    "        pl.col(\"keep\").eq(False).mean().alias(\"reject_rate\"),\n",
    "        # total number of decided rows in this class\n",
    "        pl.count().alias(\"n_decided\"),\n",
    "    ])\n",
    ")\n",
    "reject_stats"
   ]
  },
  {
   "cell_type": "code",
   "execution_count": null,
   "id": "f3712ffd-e2ec-43b3-a443-b64330cbf81a",
   "metadata": {},
   "outputs": [],
   "source": []
  }
 ],
 "metadata": {
  "kernelspec": {
   "display_name": "Python 3 (ipykernel)",
   "language": "python",
   "name": "python3"
  },
  "language_info": {
   "codemirror_mode": {
    "name": "ipython",
    "version": 3
   },
   "file_extension": ".py",
   "mimetype": "text/x-python",
   "name": "python",
   "nbconvert_exporter": "python",
   "pygments_lexer": "ipython3",
   "version": "3.10.16"
  }
 },
 "nbformat": 4,
 "nbformat_minor": 5
}
